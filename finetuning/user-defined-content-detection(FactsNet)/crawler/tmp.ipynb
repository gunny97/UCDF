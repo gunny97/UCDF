{
 "cells": [
  {
   "cell_type": "code",
   "execution_count": 1,
   "metadata": {},
   "outputs": [],
   "source": [
    "from bs4 import BeautifulSoup as bs\n",
    "import pandas as pd\n",
    "import requests\n",
    "from sentence_splitter import SentenceSplitter, split_text_into_sentences"
   ]
  },
  {
   "cell_type": "code",
   "execution_count": 2,
   "metadata": {},
   "outputs": [],
   "source": [
    "import os"
   ]
  },
  {
   "cell_type": "code",
   "execution_count": 29,
   "metadata": {},
   "outputs": [],
   "source": [
    "query_path = \"/home/local/anaconda3/envs/crawl/crawler/query_output\"\n",
    "file_path_list = []\n",
    "\n",
    "for cat in os.listdir(query_path):\n",
    "    if cat == 'general':\n",
    "        continue\n",
    "    else:\n",
    "        sub_path = os.path.join(query_path,cat)\n",
    "\n",
    "        for cat_2 in os.listdir(sub_path):\n",
    "            edge_path = os.path.join(sub_path, cat_2)\n",
    "            for cat_3 in os.listdir(edge_path):\n",
    "                file_path = os.path.join(edge_path, cat_3)\n",
    "                file_path_list.append(file_path)"
   ]
  },
  {
   "cell_type": "code",
   "execution_count": 34,
   "metadata": {},
   "outputs": [
    {
     "data": {
      "text/plain": [
       "['The United States has had a total of 62.1 million Hispanic Americans under its care since 2020.',\n",
       " 'Hispanic Americans celebrate National Hispanic Heritage Month from September 15 to October 15 annually.',\n",
       " 'Hispanics in the US with Mexican or Chilean blood celebrate their country’s independence days on September 16 and 18 during the National Hispanic Heritage Month.',\n",
       " 'Most of the Hispanic culture, traditions, and values in America come from Mexico, with descendants covering 61% of the Hispanic American population.',\n",
       " 'Costa Rica, El Salvador, Guatemala, Honduras, and Nicaragua all celebrate their independence days on September 15.']"
      ]
     },
     "execution_count": 34,
     "metadata": {},
     "output_type": "execute_result"
    }
   ],
   "source": [
    "list(pd.read_csv(\"/home/local/anaconda3/envs/crawl/crawler/query_output/history/culture/query_hispanic-culture-facts.csv\")['query'])"
   ]
  },
  {
   "cell_type": "code",
   "execution_count": 31,
   "metadata": {},
   "outputs": [
    {
     "data": {
      "text/plain": [
       "['',\n",
       " 'home',\n",
       " 'keonwoo',\n",
       " 'anaconda3',\n",
       " 'envs',\n",
       " 'crawl',\n",
       " 'crawler',\n",
       " 'query_output',\n",
       " 'history',\n",
       " 'culture',\n",
       " 'query_hispanic-culture-facts.csv']"
      ]
     },
     "execution_count": 31,
     "metadata": {},
     "output_type": "execute_result"
    }
   ],
   "source": [
    "file_path_list[0].split('/')"
   ]
  },
  {
   "cell_type": "code",
   "execution_count": 32,
   "metadata": {},
   "outputs": [
    {
     "data": {
      "text/plain": [
       "'history'"
      ]
     },
     "execution_count": 32,
     "metadata": {},
     "output_type": "execute_result"
    }
   ],
   "source": [
    "file_path_list[0].split('/')[-3]"
   ]
  },
  {
   "cell_type": "code",
   "execution_count": 14,
   "metadata": {},
   "outputs": [],
   "source": [
    "def load_all_data():\n",
    "    mypath = f\"/home/local/anaconda3/envs/crawl/crawler/results_output\"\n",
    "\n",
    "    all_data_list = []\n",
    "    for category in os.listdir(mypath):\n",
    "        if category != 'general':\n",
    "            for sub_cat in os.listdir(mypath + '/' + category):\n",
    "                # all_data_list.append(os.listdir(mypath + '/' + category + '/' + sub_cat))\n",
    "                file_name = [mypath + '/' + category + '/' + sub_cat + '/' + f for f in os.listdir(mypath + '/' + category + '/' + sub_cat)]\n",
    "                all_data_list.append(file_name)\n",
    "\n",
    "    all_data_list = sum(all_data_list,[])\n",
    "\n",
    "    return all_data_list"
   ]
  },
  {
   "cell_type": "code",
   "execution_count": null,
   "metadata": {},
   "outputs": [],
   "source": []
  },
  {
   "cell_type": "code",
   "execution_count": 16,
   "metadata": {},
   "outputs": [
    {
     "data": {
      "text/plain": [
       "291"
      ]
     },
     "execution_count": 16,
     "metadata": {},
     "output_type": "execute_result"
    }
   ],
   "source": [
    "len(load_all_data())"
   ]
  },
  {
   "cell_type": "code",
   "execution_count": null,
   "metadata": {},
   "outputs": [],
   "source": []
  }
 ],
 "metadata": {
  "kernelspec": {
   "display_name": "keonwoo_neo",
   "language": "python",
   "name": "python3"
  },
  "language_info": {
   "codemirror_mode": {
    "name": "ipython",
    "version": 3
   },
   "file_extension": ".py",
   "mimetype": "text/x-python",
   "name": "python",
   "nbconvert_exporter": "python",
   "pygments_lexer": "ipython3",
   "version": "3.8.13 (default, Mar 28 2022, 06:59:08) [MSC v.1916 64 bit (AMD64)]"
  },
  "orig_nbformat": 4,
  "vscode": {
   "interpreter": {
    "hash": "473a17fb9c005091cf4353665de455d9c74d3d37a8dc30122c5c3420cae1d5ac"
   }
  }
 },
 "nbformat": 4,
 "nbformat_minor": 2
}
