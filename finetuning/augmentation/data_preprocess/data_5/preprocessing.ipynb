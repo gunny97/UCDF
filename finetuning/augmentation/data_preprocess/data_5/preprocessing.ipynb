{
 "cells": [
  {
   "cell_type": "code",
   "execution_count": null,
   "metadata": {},
   "outputs": [],
   "source": [
    "from datasets import load_dataset\n",
    "import pandas as pd\n",
    "import numpy as np\n",
    "\n",
    "# 0: world\n",
    "# 1: sports\n",
    "# 2: business\n",
    "# 3: sci/tech\n",
    "\n",
    "ag_news = load_dataset(\"ag_news\")\n",
    "ag_news_train_df = pd.DataFrame(ag_news['train'])"
   ]
  },
  {
   "cell_type": "code",
   "execution_count": 2,
   "metadata": {},
   "outputs": [],
   "source": [
    "def construct_queries(data, num, seed):\n",
    "    label_queries = []\n",
    "    for label in np.unique(data['label']):\n",
    "        label_query = []\n",
    "        cond = data['label'] == label\n",
    "        query = data[cond].sample(n=num, random_state=seed)\n",
    "        label_query.append(query)\n",
    "        label_queries.append(label_query)\n",
    "    label_queries = np.array(label_queries)\n",
    "    label_queries = label_queries.squeeze(1)\n",
    "    return label_queries"
   ]
  },
  {
   "cell_type": "code",
   "execution_count": 3,
   "metadata": {},
   "outputs": [],
   "source": [
    "query_result = construct_queries(ag_news_train_df, 5, 9999)"
   ]
  },
  {
   "cell_type": "code",
   "execution_count": 4,
   "metadata": {},
   "outputs": [],
   "source": [
    "total_queries = pd.DataFrame(query_result.reshape(4*5,2), columns=['text','label'])"
   ]
  },
  {
   "cell_type": "code",
   "execution_count": 9,
   "metadata": {},
   "outputs": [],
   "source": [
    "world = total_queries[total_queries['label']==0]\n",
    "sports = total_queries[total_queries['label']==1]\n",
    "business = total_queries[total_queries['label']==2]\n",
    "sci_tech = total_queries[total_queries['label']==3]"
   ]
  },
  {
   "cell_type": "code",
   "execution_count": 10,
   "metadata": {},
   "outputs": [],
   "source": [
    "# bt+naive\n",
    "world.to_csv(\"world.csv\")\n",
    "sports.to_csv(\"sports.csv\")\n",
    "business.to_csv(\"business.csv\")\n",
    "sci_tech.to_csv(\"sci_tech.csv\")"
   ]
  },
  {
   "cell_type": "code",
   "execution_count": 6,
   "metadata": {},
   "outputs": [],
   "source": [
    "# eda\n",
    "world.to_csv(\"world.csv\", index = None, sep ='\\t')\n",
    "sports.to_csv(\"sports.csv\", index = None, sep ='\\t')\n",
    "business.to_csv(\"business.csv\", index = None, sep ='\\t')\n",
    "sci_tech.to_csv(\"sci_tech.csv\", index = None, sep ='\\t')"
   ]
  },
  {
   "cell_type": "code",
   "execution_count": 11,
   "metadata": {},
   "outputs": [],
   "source": [
    "import pandas as pd\n",
    "\n",
    "lang_type_list = ['ko_KR', 'es_XX', \"pt_XX\", \"zh_CN\", \"ar_AR\", 'fr_XX', 'de_DE', \"ja_XX\", \"it_IT\", \"ru_RU\"]\n",
    "class_type_list = ['business','sports','sci_tech','world']\n",
    "\n",
    "for class_type in class_type_list:\n",
    "    \n",
    "    if \"business\" == class_type:\n",
    "        label = 2\n",
    "    elif \"world\" == class_type:\n",
    "        label = 0\n",
    "    elif \"sports\" == class_type:\n",
    "        label = 1\n",
    "    elif \"sci_tech\" == class_type:\n",
    "        label = 3\n",
    "\n",
    "    class_df = pd.DataFrame(columns=['text','label'])\n",
    "    for lang in lang_type_list:\n",
    "\n",
    "        path = f\"data_5/bt_results/{class_type}_{lang}.csv\"\n",
    "        data = pd.read_csv(path)\n",
    "        data.drop([\"Unnamed: 0\"],axis=1,inplace=True)\n",
    "        data['label'] = label\n",
    "        class_df = pd.concat([class_df,data],axis=0)\n",
    "\n",
    "    class_df.to_csv(f'data_5/bt_english_final_result/{class_type}_bt_results.csv',index=False, sep ='\\t')"
   ]
  },
  {
   "cell_type": "code",
   "execution_count": null,
   "metadata": {},
   "outputs": [],
   "source": []
  }
 ],
 "metadata": {
  "kernelspec": {
   "display_name": "keonwoo_neo",
   "language": "python",
   "name": "python3"
  },
  "language_info": {
   "codemirror_mode": {
    "name": "ipython",
    "version": 3
   },
   "file_extension": ".py",
   "mimetype": "text/x-python",
   "name": "python",
   "nbconvert_exporter": "python",
   "pygments_lexer": "ipython3",
   "version": "3.8.13 (default, Mar 28 2022, 06:59:08) [MSC v.1916 64 bit (AMD64)]"
  },
  "orig_nbformat": 4,
  "vscode": {
   "interpreter": {
    "hash": "473a17fb9c005091cf4353665de455d9c74d3d37a8dc30122c5c3420cae1d5ac"
   }
  }
 },
 "nbformat": 4,
 "nbformat_minor": 2
}
